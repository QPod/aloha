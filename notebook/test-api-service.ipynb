{
 "cells": [
  {
   "cell_type": "code",
   "execution_count": null,
   "id": "a03da0d4",
   "metadata": {},
   "outputs": [],
   "source": [
    "import os, sys\n",
    "sys.path.insert(0, '../src/')"
   ]
  },
  {
   "cell_type": "code",
   "execution_count": null,
   "id": "503e782e",
   "metadata": {},
   "outputs": [],
   "source": [
    "from aloha.service.v0 import APICaller"
   ]
  },
  {
   "cell_type": "code",
   "execution_count": null,
   "id": "12967663",
   "metadata": {},
   "outputs": [],
   "source": [
    "caller = APICaller()"
   ]
  },
  {
   "cell_type": "code",
   "execution_count": null,
   "id": "250d9b9c",
   "metadata": {},
   "outputs": [],
   "source": [
    "url_base = 'http://localhost:80'"
   ]
  },
  {
   "cell_type": "code",
   "execution_count": null,
   "id": "5d227afd",
   "metadata": {},
   "outputs": [],
   "source": [
    "caller.call(url_base + '/api/common/sys_info', kind='gpu')"
   ]
  },
  {
   "cell_type": "code",
   "execution_count": null,
   "id": "c6d390a6",
   "metadata": {},
   "outputs": [],
   "source": [
    "caller.call(url_base + '/api/common/sys_info/gpu')"
   ]
  }
 ],
 "metadata": {
  "kernelspec": {
   "display_name": "Python 3 (ipykernel)",
   "language": "python",
   "name": "python3"
  },
  "language_info": {
   "codemirror_mode": {
    "name": "ipython",
    "version": 3
   },
   "file_extension": ".py",
   "mimetype": "text/x-python",
   "name": "python",
   "nbconvert_exporter": "python",
   "pygments_lexer": "ipython3",
   "version": "3.10.2"
  }
 },
 "nbformat": 4,
 "nbformat_minor": 5
}
